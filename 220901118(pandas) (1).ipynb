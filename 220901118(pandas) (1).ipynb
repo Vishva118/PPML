{
 "cells": [
  {
   "cell_type": "code",
   "execution_count": 1,
   "id": "1656a337",
   "metadata": {},
   "outputs": [
    {
     "name": "stdout",
     "output_type": "stream",
     "text": [
      "Empty DataFrame\n",
      "Columns: []\n",
      "Index: []\n"
     ]
    }
   ],
   "source": [
    "import pandas as pd\n",
    "df=pd.DataFrame()\n",
    "print(df)"
   ]
  },
  {
   "cell_type": "code",
   "execution_count": 2,
   "id": "a134d040",
   "metadata": {},
   "outputs": [
    {
     "name": "stdout",
     "output_type": "stream",
     "text": [
      "\n",
      "Series to Data frame\n",
      "\n",
      "       Emp   id\n",
      "0   Parker  102\n",
      "1     John  107\n",
      "2    Smith  109\n",
      "3  William  114\n"
     ]
    }
   ],
   "source": [
    "emp=pd.Series(['Parker','John','Smith','William'])\n",
    "id=pd.Series([102,107,109,114])\n",
    "frame={'Emp':emp,'id':id}\n",
    "result=pd.DataFrame(frame)\n",
    "print(\"\\nSeries to Data frame\\n\")\n",
    "print(result)"
   ]
  },
  {
   "cell_type": "code",
   "execution_count": 3,
   "id": "bfec0466",
   "metadata": {},
   "outputs": [
    {
     "name": "stdout",
     "output_type": "stream",
     "text": [
      "\n",
      " Extracting one column:\n",
      "\n",
      "0     Parker\n",
      "1       John\n",
      "2      Smith\n",
      "3    William\n",
      "Name: Emp, dtype: object\n"
     ]
    }
   ],
   "source": [
    "print(\"\\n Extracting one column:\\n\")\n",
    "print(result['Emp'])"
   ]
  },
  {
   "cell_type": "code",
   "execution_count": 6,
   "id": "2dbe6cab",
   "metadata": {},
   "outputs": [
    {
     "name": "stdout",
     "output_type": "stream",
     "text": [
      "\n",
      "Deleting one column:\n",
      "\n",
      "       Emp\n",
      "0   Parker\n",
      "1     John\n",
      "2    Smith\n",
      "3  William\n"
     ]
    }
   ],
   "source": [
    "print(\"\\nDeleting one column:\\n\")\n",
    "del result['id']\n",
    "print(result)"
   ]
  },
  {
   "cell_type": "code",
   "execution_count": 7,
   "id": "e2da71c5",
   "metadata": {},
   "outputs": [
    {
     "name": "stdout",
     "output_type": "stream",
     "text": [
      "\n",
      "Extracting the third row:\n",
      "\n",
      "Emp    Smith\n",
      "Name: 2, dtype: object\n"
     ]
    }
   ],
   "source": [
    "print(\"\\nExtracting the third row:\\n\")\n",
    "print(result.loc[2])"
   ]
  },
  {
   "cell_type": "code",
   "execution_count": 8,
   "id": "024a4704",
   "metadata": {},
   "outputs": [
    {
     "name": "stdout",
     "output_type": "stream",
     "text": [
      "\n",
      "Slice rows:\n",
      "      Emp\n",
      "1   John\n",
      "2  Smith\n"
     ]
    }
   ],
   "source": [
    "print(\"\\nSlice rows:\\n\",result[1:3])\n"
   ]
  },
  {
   "cell_type": "code",
   "execution_count": 9,
   "id": "b4947798",
   "metadata": {},
   "outputs": [
    {
     "name": "stdout",
     "output_type": "stream",
     "text": [
      "\n",
      "Adding new row values:\n",
      "        Emp     ID\n",
      "0   Parker    NaN\n",
      "1     John    NaN\n",
      "2    Smith    NaN\n",
      "3  William    NaN\n",
      "0     Data  123.0\n",
      "1     Mark  143.0\n"
     ]
    },
    {
     "name": "stderr",
     "output_type": "stream",
     "text": [
      "C:\\Users\\TCS\\AppData\\Local\\Temp\\ipykernel_15436\\4111758244.py:2: FutureWarning: The frame.append method is deprecated and will be removed from pandas in a future version. Use pandas.concat instead.\n",
      "  print(\"\\nAdding new row values:\\n\",result.append(d2))\n"
     ]
    }
   ],
   "source": [
    "d2=pd.DataFrame([['Data',123],['Mark',143]],columns=['Emp','ID'])\n",
    "print(\"\\nAdding new row values:\\n\",result.append(d2))"
   ]
  },
  {
   "cell_type": "code",
   "execution_count": 10,
   "id": "cc90e1fc",
   "metadata": {},
   "outputs": [
    {
     "name": "stdout",
     "output_type": "stream",
     "text": [
      "\n",
      "Deleting particular row:\n",
      "        Emp\n",
      "0   Parker\n",
      "2    Smith\n",
      "3  William\n"
     ]
    }
   ],
   "source": [
    "print(\"\\nDeleting particular row:\\n\",result.drop(1))"
   ]
  },
  {
   "cell_type": "code",
   "execution_count": null,
   "id": "a5df765a",
   "metadata": {},
   "outputs": [],
   "source": []
  }
 ],
 "metadata": {
  "kernelspec": {
   "display_name": "Python 3 (ipykernel)",
   "language": "python",
   "name": "python3"
  },
  "language_info": {
   "codemirror_mode": {
    "name": "ipython",
    "version": 3
   },
   "file_extension": ".py",
   "mimetype": "text/x-python",
   "name": "python",
   "nbconvert_exporter": "python",
   "pygments_lexer": "ipython3",
   "version": "3.9.12"
  }
 },
 "nbformat": 4,
 "nbformat_minor": 5
}
