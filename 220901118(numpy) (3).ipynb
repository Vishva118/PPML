{
  "nbformat": 4,
  "nbformat_minor": 0,
  "metadata": {
    "colab": {
      "provenance": []
    },
    "kernelspec": {
      "name": "python3",
      "display_name": "Python 3"
    },
    "language_info": {
      "name": "python"
    }
  },
  "cells": [
    {
      "cell_type": "code",
      "execution_count": 1,
      "metadata": {
        "colab": {
          "base_uri": "https://localhost:8080/"
        },
        "id": "1kjHnYWJweoL",
        "outputId": "5c045db3-f56f-45c6-84b9-ac5db4699772"
      },
      "outputs": [
        {
          "output_type": "stream",
          "name": "stdout",
          "text": [
            "Array created using passed list:\n",
            " [[1 2 4]\n",
            " [5 8 7]]\n"
          ]
        }
      ],
      "source": [
        "import numpy as np\n",
        "\n",
        "a = np.array([[1, 2, 4], [5, 8, 7]])\n",
        "\n",
        "print (\"Array created using passed list:\\n\", a)"
      ]
    },
    {
      "cell_type": "code",
      "source": [
        "b = np.zeros((3, 4))\n",
        "print (\"\\nAn array initialized with all zeros:\\n\", b)"
      ],
      "metadata": {
        "colab": {
          "base_uri": "https://localhost:8080/"
        },
        "id": "tnhdDEl9w_w-",
        "outputId": "682c12ae-9971-46a6-9a61-97daa84a6ccf"
      },
      "execution_count": 2,
      "outputs": [
        {
          "output_type": "stream",
          "name": "stdout",
          "text": [
            "\n",
            "An array initialized with all zeros:\n",
            " [[0. 0. 0. 0.]\n",
            " [0. 0. 0. 0.]\n",
            " [0. 0. 0. 0.]]\n"
          ]
        }
      ]
    },
    {
      "cell_type": "code",
      "source": [
        "c = np.full((3, 3), 6)\n",
        "print (\"\\nAn array initialized with all 6s.\\n\", c)"
      ],
      "metadata": {
        "colab": {
          "base_uri": "https://localhost:8080/"
        },
        "id": "mag3gUJQxDn2",
        "outputId": "d33e1770-872b-413e-c9cc-6c9e4c24de97"
      },
      "execution_count": 3,
      "outputs": [
        {
          "output_type": "stream",
          "name": "stdout",
          "text": [
            "\n",
            "An array initialized with all 6s.\n",
            " [[6 6 6]\n",
            " [6 6 6]\n",
            " [6 6 6]]\n"
          ]
        }
      ]
    },
    {
      "cell_type": "code",
      "source": [
        "d = np.random.random((2, 2))\n",
        "print (\"\\nA random array:\\n\", d)"
      ],
      "metadata": {
        "colab": {
          "base_uri": "https://localhost:8080/"
        },
        "id": "9EKzTK9kxHgR",
        "outputId": "946cb5b4-2ce5-420a-e404-2e30fc12dac7"
      },
      "execution_count": 4,
      "outputs": [
        {
          "output_type": "stream",
          "name": "stdout",
          "text": [
            "\n",
            "A random array:\n",
            " [[0.1594051  0.08491947]\n",
            " [0.17963386 0.82762865]]\n"
          ]
        }
      ]
    },
    {
      "cell_type": "code",
      "source": [
        "e = np.arange(0, 30, 5)\n",
        "print (\"\\nA sequential array with steps of 5:\\n\", e)"
      ],
      "metadata": {
        "colab": {
          "base_uri": "https://localhost:8080/"
        },
        "id": "w0SSUk50xK14",
        "outputId": "d67f87c9-31ac-49d4-f53c-6cedf5197616"
      },
      "execution_count": 5,
      "outputs": [
        {
          "output_type": "stream",
          "name": "stdout",
          "text": [
            "\n",
            "A sequential array with steps of 5:\n",
            " [ 0  5 10 15 20 25]\n"
          ]
        }
      ]
    },
    {
      "cell_type": "code",
      "source": [
        "arr = np.array([[1, 2, 3, 4],\n",
        "\n",
        "[5, 2, 4, 2],\n",
        "\n",
        "[1, 2, 0, 1]])\n",
        "\n",
        "newarr = arr.reshape(4, 3)\n",
        "\n",
        "print (\"\\nOriginal array:\\n\", arr)\n",
        "\n",
        "print (\"Reshaped array[4,3]:\\n\", newarr)"
      ],
      "metadata": {
        "colab": {
          "base_uri": "https://localhost:8080/"
        },
        "id": "gevoXneixOPD",
        "outputId": "6acea760-06fb-4ba4-8d01-cfc9890f70b2"
      },
      "execution_count": 6,
      "outputs": [
        {
          "output_type": "stream",
          "name": "stdout",
          "text": [
            "\n",
            "Original array:\n",
            " [[1 2 3 4]\n",
            " [5 2 4 2]\n",
            " [1 2 0 1]]\n",
            "Reshaped array[4,3]:\n",
            " [[1 2 3]\n",
            " [4 5 2]\n",
            " [4 2 1]\n",
            " [2 0 1]]\n"
          ]
        }
      ]
    },
    {
      "cell_type": "code",
      "source": [
        "print(\"\\nNo. of dimensions: \", arr.ndim)\n",
        "print(\"\\nShape of array: \", arr.shape)\n",
        "print(\"\\nSize of array: \", arr.size)\n",
        "print(\"\\nArray stores elements of type: \",arr.dtype)"
      ],
      "metadata": {
        "colab": {
          "base_uri": "https://localhost:8080/"
        },
        "id": "XMpk8cu5xVVC",
        "outputId": "2135964d-b60d-470f-c06a-05e341923d2c"
      },
      "execution_count": 7,
      "outputs": [
        {
          "output_type": "stream",
          "name": "stdout",
          "text": [
            "\n",
            "No. of dimensions:  2\n",
            "\n",
            "Shape of array:  (3, 4)\n",
            "\n",
            "Size of array:  12\n",
            "\n",
            "Array stores elements of type:  int64\n"
          ]
        }
      ]
    },
    {
      "cell_type": "code",
      "source": [
        "flarr = arr.flatten()\n",
        "\n",
        "print (\"\\nOriginal array:\\n\", arr)\n",
        "\n",
        "print (\"Fattened array:\\n\", flarr)"
      ],
      "metadata": {
        "colab": {
          "base_uri": "https://localhost:8080/"
        },
        "id": "KRWRFVyexhNH",
        "outputId": "e76c0cf7-6a31-47a7-e7fc-c26bd8234fa6"
      },
      "execution_count": 8,
      "outputs": [
        {
          "output_type": "stream",
          "name": "stdout",
          "text": [
            "\n",
            "Original array:\n",
            " [[1 2 3 4]\n",
            " [5 2 4 2]\n",
            " [1 2 0 1]]\n",
            "Fattened array:\n",
            " [1 2 3 4 5 2 4 2 1 2 0 1]\n"
          ]
        }
      ]
    },
    {
      "cell_type": "code",
      "source": [
        "newtype=arr.astype('f')\n",
        "print(\"\\nConverted array elements:\\n\",newtype)\n",
        "print(\"Converted array type:\",newtype.dtype)"
      ],
      "metadata": {
        "colab": {
          "base_uri": "https://localhost:8080/"
        },
        "id": "t5DXgauyxlaG",
        "outputId": "352bb10c-5722-4959-f604-c34d4a08a389"
      },
      "execution_count": 9,
      "outputs": [
        {
          "output_type": "stream",
          "name": "stdout",
          "text": [
            "\n",
            "Converted array elements:\n",
            " [[1. 2. 3. 4.]\n",
            " [5. 2. 4. 2.]\n",
            " [1. 2. 0. 1.]]\n",
            "Converted array type: float32\n"
          ]
        }
      ]
    },
    {
      "cell_type": "code",
      "source": [
        "arr = np.empty((8, 4))\n",
        "for i in range(8):\n",
        "    arr[i] = i\n",
        "print (arr)\n",
        "print (arr[[4, 3, 0, 6]])\n",
        "print (arr[[-3, -5, -7]])"
      ],
      "metadata": {
        "colab": {
          "base_uri": "https://localhost:8080/"
        },
        "id": "81m5z8TdxqIa",
        "outputId": "52f3ba2b-5a2c-41d4-d7cd-19e268d3ba57"
      },
      "execution_count": 12,
      "outputs": [
        {
          "output_type": "stream",
          "name": "stdout",
          "text": [
            "[[0. 0. 0. 0.]\n",
            " [1. 1. 1. 1.]\n",
            " [2. 2. 2. 2.]\n",
            " [3. 3. 3. 3.]\n",
            " [4. 4. 4. 4.]\n",
            " [5. 5. 5. 5.]\n",
            " [6. 6. 6. 6.]\n",
            " [7. 7. 7. 7.]]\n",
            "[[4. 4. 4. 4.]\n",
            " [3. 3. 3. 3.]\n",
            " [0. 0. 0. 0.]\n",
            " [6. 6. 6. 6.]]\n",
            "[[5. 5. 5. 5.]\n",
            " [3. 3. 3. 3.]\n",
            " [1. 1. 1. 1.]]\n"
          ]
        }
      ]
    },
    {
      "cell_type": "code",
      "source": [
        "arr =np.arange(15).reshape((3, 5))\n",
        "print (arr)\n",
        "print (arr.shape)\n",
        "print (arr.T)\n",
        "print (arr.T.shape)"
      ],
      "metadata": {
        "colab": {
          "base_uri": "https://localhost:8080/"
        },
        "id": "7uPoZCnvx4oU",
        "outputId": "48d1e1b5-e92a-4431-b8ae-1e2ae3fe37b2"
      },
      "execution_count": 14,
      "outputs": [
        {
          "output_type": "stream",
          "name": "stdout",
          "text": [
            "[[ 0  1  2  3  4]\n",
            " [ 5  6  7  8  9]\n",
            " [10 11 12 13 14]]\n",
            "(3, 5)\n",
            "[[ 0  5 10]\n",
            " [ 1  6 11]\n",
            " [ 2  7 12]\n",
            " [ 3  8 13]\n",
            " [ 4  9 14]]\n",
            "(5, 3)\n"
          ]
        }
      ]
    },
    {
      "cell_type": "code",
      "source": [
        "arr = np.array([[1, 2, 3, 4],\n",
        "[5, 2, 4, 2],\n",
        "[3, 5, 8, 9],\n",
        "[5, 9, 2, 0],\n",
        "[1, 2, 0, 1]])\n",
        "print(\"every alternate row\\n\",arr[0:4:2])\n",
        "print(\"first 2 rows and 3 columns\\n\",arr[:2,:3])\n",
        "print(\"except first 2 rows and 2columns\\n\",arr[2:,2:])\n",
        "print(\"extracting 2nd row, 3rd value\\n\",arr[2,3])\n",
        "print(\"first 2 rows\\n\", arr[:2])\n",
        "print(\"except first 3 rows\\n\",arr[3:])\n",
        "print(\"first 3 columns\\n\",arr[:,:3])"
      ],
      "metadata": {
        "colab": {
          "base_uri": "https://localhost:8080/"
        },
        "id": "4ov-goRjyEgX",
        "outputId": "82b312a4-28c2-4d1c-fccb-d6a67e0977b6"
      },
      "execution_count": 15,
      "outputs": [
        {
          "output_type": "stream",
          "name": "stdout",
          "text": [
            "every alternate row\n",
            " [[1 2 3 4]\n",
            " [3 5 8 9]]\n",
            "first 2 rows and 3 columns\n",
            " [[1 2 3]\n",
            " [5 2 4]]\n",
            "except first 2 rows and 2columns\n",
            " [[8 9]\n",
            " [2 0]\n",
            " [0 1]]\n",
            "extracting 2nd row, 3rd value\n",
            " 9\n",
            "first 2 rows\n",
            " [[1 2 3 4]\n",
            " [5 2 4 2]]\n",
            "except first 3 rows\n",
            " [[5 9 2 0]\n",
            " [1 2 0 1]]\n",
            "first 3 columns\n",
            " [[1 2 3]\n",
            " [5 2 4]\n",
            " [3 5 8]\n",
            " [5 9 2]\n",
            " [1 2 0]]\n"
          ]
        }
      ]
    },
    {
      "cell_type": "code",
      "source": [
        "print(\"Original array:\\n\", arr)\n",
        "temp = arr[[0, 1, 2, 3], [3, 2, 1, 0]]\n",
        "print (\"\\nElements at indices (0, 3), (1, 2), (2, 1),\"\"(3, 0):\\n\", temp)"
      ],
      "metadata": {
        "colab": {
          "base_uri": "https://localhost:8080/"
        },
        "id": "QgVWGj0UyR29",
        "outputId": "1b97396d-a78a-4d95-ba8d-a529cfcc76af"
      },
      "execution_count": 16,
      "outputs": [
        {
          "output_type": "stream",
          "name": "stdout",
          "text": [
            "Original array:\n",
            " [[1 2 3 4]\n",
            " [5 2 4 2]\n",
            " [3 5 8 9]\n",
            " [5 9 2 0]\n",
            " [1 2 0 1]]\n",
            "\n",
            "Elements at indices (0, 3), (1, 2), (2, 1),(3, 0):\n",
            " [4 4 5 5]\n"
          ]
        }
      ]
    },
    {
      "cell_type": "code",
      "source": [
        "arr1 = np.array([1, 2, 3])\n",
        "arr2 = np.array([4, 5, 6])\n",
        "arr = np.concatenate((arr1, arr2))\n",
        "print(\"\\nOriginal arrays:\\n\",arr1,arr2)\n",
        "print(\"\\nJoined array:\\n\",arr)"
      ],
      "metadata": {
        "colab": {
          "base_uri": "https://localhost:8080/"
        },
        "id": "MZ3Q2nQwyXoM",
        "outputId": "f6068f6b-063d-40a2-9b5f-a09db997c6eb"
      },
      "execution_count": 19,
      "outputs": [
        {
          "output_type": "stream",
          "name": "stdout",
          "text": [
            "\n",
            "Original arrays:\n",
            " [1 2 3] [4 5 6]\n",
            "\n",
            "Joined array:\n",
            " [1 2 3 4 5 6]\n"
          ]
        }
      ]
    },
    {
      "cell_type": "code",
      "source": [
        "arr = np.hstack((arr1, arr2))\n",
        "print(\"\\horizontal joining:\\n\",arr)"
      ],
      "metadata": {
        "colab": {
          "base_uri": "https://localhost:8080/"
        },
        "id": "u0LWpzlvysL8",
        "outputId": "183fb3be-9f0e-4666-f269-4b6e6192397e"
      },
      "execution_count": 20,
      "outputs": [
        {
          "output_type": "stream",
          "name": "stdout",
          "text": [
            "\\horizontal joining:\n",
            " [1 2 3 4 5 6]\n"
          ]
        }
      ]
    },
    {
      "cell_type": "code",
      "source": [
        "print(\"\\nOriginal arrays:\\n\",arr1,arr2)\n",
        "\n",
        "arr = np.vstack((arr1, arr2))\n",
        "print(\"\\nVertical joining:\\n\",arr)"
      ],
      "metadata": {
        "colab": {
          "base_uri": "https://localhost:8080/"
        },
        "id": "np10xFJWyvme",
        "outputId": "0cc38b98-c8ef-4f71-a653-36349ac0c500"
      },
      "execution_count": 21,
      "outputs": [
        {
          "output_type": "stream",
          "name": "stdout",
          "text": [
            "\n",
            "Original arrays:\n",
            " [1 2 3] [4 5 6]\n",
            "\n",
            "Vertical joining:\n",
            " [[1 2 3]\n",
            " [4 5 6]]\n"
          ]
        }
      ]
    },
    {
      "cell_type": "code",
      "source": [
        "arr = np.dstack((arr1, arr2))\n",
        "print(\"\\nDepth joining:\\n\",arr)"
      ],
      "metadata": {
        "colab": {
          "base_uri": "https://localhost:8080/"
        },
        "id": "jtO0jiOoyyuy",
        "outputId": "572f94b7-ca08-4c99-db14-1edf05bcfe42"
      },
      "execution_count": 22,
      "outputs": [
        {
          "output_type": "stream",
          "name": "stdout",
          "text": [
            "\n",
            "Depth joining:\n",
            " [[[1 4]\n",
            "  [2 5]\n",
            "  [3 6]]]\n"
          ]
        }
      ]
    },
    {
      "cell_type": "code",
      "source": [
        "arr = np.array([1, 2, 3, 4, 5, 6])\n",
        "newarr = np.array_split(arr, 3)\n",
        "print(\"\\nOriginal Array:\\n\",arr)\n",
        "print(\"\\nSplitted array:\\n\",newarr)"
      ],
      "metadata": {
        "colab": {
          "base_uri": "https://localhost:8080/"
        },
        "id": "I6BYEuVVy1gG",
        "outputId": "3cde82ac-b1ec-425e-9750-b57277ba330f"
      },
      "execution_count": 23,
      "outputs": [
        {
          "output_type": "stream",
          "name": "stdout",
          "text": [
            "\n",
            "Original Array:\n",
            " [1 2 3 4 5 6]\n",
            "\n",
            "Splitted array:\n",
            " [array([1, 2]), array([3, 4]), array([5, 6])]\n"
          ]
        }
      ]
    },
    {
      "cell_type": "code",
      "source": [
        "print(\"\\nSplit array in another form:\\n\")\n",
        "print(newarr[0])\n",
        "print(newarr[1])\n",
        "print(newarr[2])"
      ],
      "metadata": {
        "colab": {
          "base_uri": "https://localhost:8080/"
        },
        "id": "azx-W1ffy4Mn",
        "outputId": "ffd2f782-1914-4c4c-974e-d1c43c9d682d"
      },
      "execution_count": 24,
      "outputs": [
        {
          "output_type": "stream",
          "name": "stdout",
          "text": [
            "\n",
            "Split array in another form:\n",
            "\n",
            "[1 2]\n",
            "[3 4]\n",
            "[5 6]\n"
          ]
        }
      ]
    },
    {
      "cell_type": "code",
      "source": [
        "arr = np.array([1, 2, 3, 4, 5, 4, 4])\n",
        "print(\"Original array:\",arr)\n",
        "x = np.where(arr == 4)\n",
        "print(\"\\nIndexes where the value is 4:\",x)"
      ],
      "metadata": {
        "colab": {
          "base_uri": "https://localhost:8080/"
        },
        "id": "BzEuwH58y8A8",
        "outputId": "eb0093bf-d31c-4df1-cfcf-7f28d5866872"
      },
      "execution_count": 25,
      "outputs": [
        {
          "output_type": "stream",
          "name": "stdout",
          "text": [
            "Original array: [1 2 3 4 5 4 4]\n",
            "\n",
            "Indexes where the value is 4: (array([3, 5, 6]),)\n"
          ]
        }
      ]
    },
    {
      "cell_type": "code",
      "source": [
        "arr = np.array([3, 2, 0, 1])\n",
        "print(\"\\nOriginal array:\",arr)\n",
        "print(\"\\nSorted array:\",np.sort(arr))"
      ],
      "metadata": {
        "colab": {
          "base_uri": "https://localhost:8080/"
        },
        "id": "jAmSNl0Zy_pA",
        "outputId": "5935a6e3-ebe1-4665-f95e-a9f96bf41177"
      },
      "execution_count": 29,
      "outputs": [
        {
          "output_type": "stream",
          "name": "stdout",
          "text": [
            "\n",
            "Original array: [3 2 0 1]\n",
            "\n",
            "Sorted array: [0 1 2 3]\n"
          ]
        }
      ]
    },
    {
      "cell_type": "code",
      "source": [
        "arr = np.array([[3, 2, 4], [5, 0, 1]])\n",
        "print(\"\\nOriginal array:\",arr)\n",
        "print(\"\\nSorted array:\",np.sort(arr))"
      ],
      "metadata": {
        "colab": {
          "base_uri": "https://localhost:8080/"
        },
        "id": "cbuR33DSznjy",
        "outputId": "5f6e746c-af69-4e22-89bc-6147a7deab55"
      },
      "execution_count": 30,
      "outputs": [
        {
          "output_type": "stream",
          "name": "stdout",
          "text": [
            "\n",
            "Original array: [[3 2 4]\n",
            " [5 0 1]]\n",
            "\n",
            "Sorted array: [[2 3 4]\n",
            " [0 1 5]]\n"
          ]
        }
      ]
    },
    {
      "cell_type": "code",
      "source": [
        "arr = np.array([41, 42, 43, 44])\n",
        "x = [True, False, True, False]\n",
        "newarr = arr[x]\n",
        "print(\"\\nOriginal array:\",arr)\n",
        "print(\"\\nFilter index:\",x)\n",
        "print(\"\\nFilter array:\",newarr)"
      ],
      "metadata": {
        "colab": {
          "base_uri": "https://localhost:8080/"
        },
        "id": "yks_KZmdzslV",
        "outputId": "24e34fca-ceb9-4743-bc37-953453fb4181"
      },
      "execution_count": 31,
      "outputs": [
        {
          "output_type": "stream",
          "name": "stdout",
          "text": [
            "\n",
            "Original array: [41 42 43 44]\n",
            "\n",
            "Filter index: [True, False, True, False]\n",
            "\n",
            "Filter array: [41 43]\n"
          ]
        }
      ]
    },
    {
      "cell_type": "code",
      "source": [
        "arr = np.array([41, 42, 43, 44])\n",
        "filter_arr = arr > 42\n",
        "newarr = arr[filter_arr]\n",
        "print(\"\\nOriginal array:\",arr)\n",
        "print(\"\\nFilter array:condition- >42:\",filter_arr)\n",
        "print(\"\\nNew array:\",newarr)"
      ],
      "metadata": {
        "colab": {
          "base_uri": "https://localhost:8080/"
        },
        "id": "JyNTf2TizxuL",
        "outputId": "6313edbd-131c-404d-cca4-128e926f6e9d"
      },
      "execution_count": 32,
      "outputs": [
        {
          "output_type": "stream",
          "name": "stdout",
          "text": [
            "\n",
            "Original array: [41 42 43 44]\n",
            "\n",
            "Filter array:condition- >42: [False False  True  True]\n",
            "\n",
            "New array: [43 44]\n"
          ]
        }
      ]
    },
    {
      "cell_type": "code",
      "source": [
        "arr1=[10,20,30,40,50]\n",
        "arr2=[2,4,5,8,10]\n",
        "a=np.array(arr1)\n",
        "b=np.array(arr2)\n",
        "print(\"Original arrays\")\n",
        "print(a)\n",
        "print(b)"
      ],
      "metadata": {
        "colab": {
          "base_uri": "https://localhost:8080/"
        },
        "id": "vy4MpnuNz7j1",
        "outputId": "6d1873e7-acf2-421b-eac7-e335f62de806"
      },
      "execution_count": 34,
      "outputs": [
        {
          "output_type": "stream",
          "name": "stdout",
          "text": [
            "Original arrays\n",
            "[10 20 30 40 50]\n",
            "[ 2  4  5  8 10]\n"
          ]
        }
      ]
    },
    {
      "cell_type": "code",
      "source": [
        "print(a+b)\n",
        "print(a-b)\n",
        "print(a*b)\n",
        "print(a/b)\n",
        "print(a.dot(b))"
      ],
      "metadata": {
        "colab": {
          "base_uri": "https://localhost:8080/"
        },
        "id": "DPuynB1l0DyB",
        "outputId": "92c170e7-cd6a-4601-80c5-b82f0b5a7108"
      },
      "execution_count": 35,
      "outputs": [
        {
          "output_type": "stream",
          "name": "stdout",
          "text": [
            "[12 24 35 48 60]\n",
            "[ 8 16 25 32 40]\n",
            "[ 20  80 150 320 500]\n",
            "[5. 5. 6. 5. 5.]\n",
            "1070\n"
          ]
        }
      ]
    },
    {
      "cell_type": "code",
      "source": [
        "print(\"\\nScalar multiplication\")\n",
        "sclr=5\n",
        "print(\" scalar value=\",sclr)\n",
        "print(\" array=\",a)\n",
        "print(\" result=\",a*sclr)"
      ],
      "metadata": {
        "id": "o_hGbU5z0UD5",
        "outputId": "d9997f11-f3a1-40da-cd84-d65191b89bdb",
        "colab": {
          "base_uri": "https://localhost:8080/"
        }
      },
      "execution_count": 36,
      "outputs": [
        {
          "output_type": "stream",
          "name": "stdout",
          "text": [
            "\n",
            "Scalar multiplication\n",
            " scalar value= 5\n",
            " array= [10 20 30 40 50]\n",
            " result= [ 50 100 150 200 250]\n"
          ]
        }
      ]
    }
  ]
}