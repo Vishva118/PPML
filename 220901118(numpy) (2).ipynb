{
 "cells": [
  {
   "cell_type": "code",
   "execution_count": 1,
   "id": "5b914157",
   "metadata": {},
   "outputs": [
    {
     "name": "stdout",
     "output_type": "stream",
     "text": [
      "Array created using passed list:\n",
      " [[1 2 4]\n",
      " [5 8 7]]\n"
     ]
    }
   ],
   "source": [
    "import numpy as np\n",
    "\n",
    "a = np.array([[1, 2, 4], [5, 8, 7]])\n",
    "\n",
    "print (\"Array created using passed list:\\n\", a)"
   ]
  },
  {
   "cell_type": "code",
   "execution_count": 2,
   "id": "cb23cc62",
   "metadata": {},
   "outputs": [
    {
     "name": "stdout",
     "output_type": "stream",
     "text": [
      "\n",
      "An array initialized with all zeros:\n",
      " [[0. 0. 0. 0.]\n",
      " [0. 0. 0. 0.]\n",
      " [0. 0. 0. 0.]]\n"
     ]
    }
   ],
   "source": [
    "b = np.zeros((3, 4))\n",
    "print (\"\\nAn array initialized with all zeros:\\n\", b)"
   ]
  },
  {
   "cell_type": "code",
   "execution_count": 3,
   "id": "17fe672c",
   "metadata": {},
   "outputs": [
    {
     "name": "stdout",
     "output_type": "stream",
     "text": [
      "\n",
      "An array initialized with all 6s.\n",
      " [[6 6 6]\n",
      " [6 6 6]\n",
      " [6 6 6]]\n"
     ]
    }
   ],
   "source": [
    "c = np.full((3, 3), 6)\n",
    "print (\"\\nAn array initialized with all 6s.\\n\", c)"
   ]
  },
  {
   "cell_type": "code",
   "execution_count": 4,
   "id": "d2e92b7b",
   "metadata": {},
   "outputs": [
    {
     "name": "stdout",
     "output_type": "stream",
     "text": [
      "\n",
      "A random array:\n",
      " [[0.56987467 0.31996114]\n",
      " [0.930015   0.60686627]]\n"
     ]
    }
   ],
   "source": [
    "d = np.random.random((2, 2))\n",
    "print (\"\\nA random array:\\n\", d)"
   ]
  },
  {
   "cell_type": "code",
   "execution_count": 5,
   "id": "ff1deabc",
   "metadata": {},
   "outputs": [
    {
     "name": "stdout",
     "output_type": "stream",
     "text": [
      "\n",
      "A sequential array with steps of 5:\n",
      " [ 0  5 10 15 20 25]\n"
     ]
    }
   ],
   "source": [
    "e = np.arange(0, 30, 5)\n",
    "print (\"\\nA sequential array with steps of 5:\\n\", e)"
   ]
  },
  {
   "cell_type": "code",
   "execution_count": 6,
   "id": "7745e3f3",
   "metadata": {},
   "outputs": [
    {
     "name": "stdout",
     "output_type": "stream",
     "text": [
      "\n",
      "Original array:\n",
      " [[1 2 3 4]\n",
      " [5 2 4 2]\n",
      " [1 2 0 1]]\n",
      "Reshaped array[4,3]:\n",
      " [[1 2 3]\n",
      " [4 5 2]\n",
      " [4 2 1]\n",
      " [2 0 1]]\n"
     ]
    }
   ],
   "source": [
    "arr = np.array([[1, 2, 3, 4],[5, 2, 4, 2],[1, 2, 0, 1]])\n",
    "newarr = arr.reshape(4, 3)\n",
    "print (\"\\nOriginal array:\\n\", arr)\n",
    "print (\"Reshaped array[4,3]:\\n\", newarr)"
   ]
  },
  {
   "cell_type": "code",
   "execution_count": 7,
   "id": "228f9085",
   "metadata": {},
   "outputs": [
    {
     "name": "stdout",
     "output_type": "stream",
     "text": [
      "\n",
      "No. of dimensions:  2\n"
     ]
    }
   ],
   "source": [
    "print(\"\\nNo. of dimensions: \", arr.ndim)"
   ]
  },
  {
   "cell_type": "code",
   "execution_count": 8,
   "id": "e19628d0",
   "metadata": {},
   "outputs": [
    {
     "name": "stdout",
     "output_type": "stream",
     "text": [
      "\n",
      "Shape of array:  (3, 4)\n"
     ]
    }
   ],
   "source": [
    "print(\"\\nShape of array: \", arr.shape)"
   ]
  },
  {
   "cell_type": "code",
   "execution_count": 9,
   "id": "09c751cc",
   "metadata": {},
   "outputs": [
    {
     "name": "stdout",
     "output_type": "stream",
     "text": [
      "\n",
      "Size of array:  12\n"
     ]
    }
   ],
   "source": [
    "print(\"\\nSize of array: \", arr.size)"
   ]
  },
  {
   "cell_type": "code",
   "execution_count": 10,
   "id": "8f9e5331",
   "metadata": {},
   "outputs": [
    {
     "name": "stdout",
     "output_type": "stream",
     "text": [
      "\n",
      "Array stores elements of type:  int32\n"
     ]
    }
   ],
   "source": [
    "print(\"\\nArray stores elements of type: \",arr.dtype)"
   ]
  },
  {
   "cell_type": "code",
   "execution_count": 11,
   "id": "239e4ba4",
   "metadata": {},
   "outputs": [
    {
     "name": "stdout",
     "output_type": "stream",
     "text": [
      "\n",
      "Original array:\n",
      " [[1 2 3 4]\n",
      " [5 2 4 2]\n",
      " [1 2 0 1]]\n",
      "Fattened array:\n",
      " [1 2 3 4 5 2 4 2 1 2 0 1]\n"
     ]
    }
   ],
   "source": [
    "flarr = arr.flatten()\n",
    "print (\"\\nOriginal array:\\n\", arr)\n",
    "print (\"Fattened array:\\n\", flarr)"
   ]
  },
  {
   "cell_type": "code",
   "execution_count": 12,
   "id": "96fb952a",
   "metadata": {},
   "outputs": [
    {
     "name": "stdout",
     "output_type": "stream",
     "text": [
      "\n",
      "Converted array elements:\n",
      " [[1. 2. 3. 4.]\n",
      " [5. 2. 4. 2.]\n",
      " [1. 2. 0. 1.]]\n",
      "Converted array type: float32\n"
     ]
    }
   ],
   "source": [
    "newtype=arr.astype('f')\n",
    "print(\"\\nConverted array elements:\\n\",newtype)\n",
    "print(\"Converted array type:\",newtype.dtype)"
   ]
  },
  {
   "cell_type": "code",
   "execution_count": 14,
   "id": "f076f716",
   "metadata": {},
   "outputs": [
    {
     "name": "stdout",
     "output_type": "stream",
     "text": [
      "[[0. 0. 0. 0.]\n",
      " [1. 1. 1. 1.]\n",
      " [2. 2. 2. 2.]\n",
      " [3. 3. 3. 3.]\n",
      " [4. 4. 4. 4.]\n",
      " [5. 5. 5. 5.]\n",
      " [6. 6. 6. 6.]\n",
      " [7. 7. 7. 7.]]\n",
      "[[4. 4. 4. 4.]\n",
      " [3. 3. 3. 3.]\n",
      " [0. 0. 0. 0.]\n",
      " [6. 6. 6. 6.]]\n",
      "[[5. 5. 5. 5.]\n",
      " [3. 3. 3. 3.]\n",
      " [1. 1. 1. 1.]]\n"
     ]
    }
   ],
   "source": [
    "arr = np.empty((8, 4))\n",
    "for i in range(8):\n",
    "    arr[i] = i\n",
    "print (arr)\n",
    "print (arr[[4, 3, 0, 6]])\n",
    "print (arr[[-3, -5, -7]])"
   ]
  },
  {
   "cell_type": "code",
   "execution_count": 15,
   "id": "7241ab0c",
   "metadata": {},
   "outputs": [
    {
     "name": "stdout",
     "output_type": "stream",
     "text": [
      "[[ 0  1  2  3  4]\n",
      " [ 5  6  7  8  9]\n",
      " [10 11 12 13 14]]\n",
      "(3, 5)\n",
      "[[ 0  5 10]\n",
      " [ 1  6 11]\n",
      " [ 2  7 12]\n",
      " [ 3  8 13]\n",
      " [ 4  9 14]]\n",
      "(5, 3)\n"
     ]
    }
   ],
   "source": [
    "arr =np.arange(15).reshape((3, 5))\n",
    "print (arr)\n",
    "print (arr.shape)\n",
    "print (arr.T)\n",
    "print (arr.T.shape)"
   ]
  },
  {
   "cell_type": "code",
   "execution_count": 16,
   "id": "0e8ee5ab",
   "metadata": {},
   "outputs": [
    {
     "name": "stdout",
     "output_type": "stream",
     "text": [
      "every alternate row\n",
      " [[1 2 3 4]\n",
      " [3 5 8 9]]\n",
      "first 2 rows and 3 columns\n",
      " [[1 2 3]\n",
      " [5 2 4]]\n",
      "except first 2 rows and 2columns\n",
      " [[8 9]\n",
      " [2 0]\n",
      " [0 1]]\n",
      "extracting 2nd row, 3rd value\n",
      " 9\n",
      "first 2 rows\n",
      " [[1 2 3 4]\n",
      " [5 2 4 2]]\n",
      "except first 3 rows\n",
      " [[5 9 2 0]\n",
      " [1 2 0 1]]\n",
      "first 3 columns\n",
      " [[1 2 3]\n",
      " [5 2 4]\n",
      " [3 5 8]\n",
      " [5 9 2]\n",
      " [1 2 0]]\n"
     ]
    }
   ],
   "source": [
    "arr = np.array([[1, 2, 3, 4],[5, 2, 4, 2],[3, 5, 8, 9],[5, 9, 2, 0],[1, 2, 0, 1]])\n",
    "print(\"every alternate row\\n\",arr[0:4:2])\n",
    "print(\"first 2 rows and 3 columns\\n\",arr[:2,:3])\n",
    "print(\"except first 2 rows and 2columns\\n\",arr[2:,2:])\n",
    "print(\"extracting 2nd row, 3rd value\\n\",arr[2,3])\n",
    "print(\"first 2 rows\\n\", arr[:2])\n",
    "print(\"except first 3 rows\\n\",arr[3:])\n",
    "print(\"first 3 columns\\n\",arr[:,:3])"
   ]
  },
  {
   "cell_type": "code",
   "execution_count": 17,
   "id": "9099d782",
   "metadata": {},
   "outputs": [
    {
     "name": "stdout",
     "output_type": "stream",
     "text": [
      "Original array:\n",
      " [[1 2 3 4]\n",
      " [5 2 4 2]\n",
      " [3 5 8 9]\n",
      " [5 9 2 0]\n",
      " [1 2 0 1]]\n",
      "\n",
      "Elements at indices (0, 3), (1, 2), (2, 1),(3, 0):\n",
      " [4 4 5 5]\n"
     ]
    }
   ],
   "source": [
    "print(\"Original array:\\n\", arr)\n",
    "temp = arr[[0, 1, 2, 3], [3, 2, 1, 0]]\n",
    "print (\"\\nElements at indices (0, 3), (1, 2), (2, 1),\"\"(3, 0):\\n\", temp)"
   ]
  },
  {
   "cell_type": "code",
   "execution_count": 19,
   "id": "36194f5b",
   "metadata": {},
   "outputs": [
    {
     "name": "stdout",
     "output_type": "stream",
     "text": [
      "\n",
      "Elements greater than 2:\n",
      " [3 4 5 4 3 5 8 9 5 9]\n"
     ]
    }
   ],
   "source": [
    "cond=arr>2\n",
    "temp=arr[cond]\n",
    "print(\"\\nElements greater than 2:\\n\",temp)"
   ]
  },
  {
   "cell_type": "code",
   "execution_count": 20,
   "id": "22d45f6b",
   "metadata": {},
   "outputs": [
    {
     "name": "stdout",
     "output_type": "stream",
     "text": [
      "\n",
      "Original arrays:\n",
      " [1 2 3] [4 5 6]\n",
      "\n",
      "Joined array:\n",
      " [1 2 3 4 5 6]\n"
     ]
    }
   ],
   "source": [
    "arr1 = np.array([1,2,3])\n",
    "arr2 = np.array([4,5,6])\n",
    "arr = np.concatenate((arr1, arr2))\n",
    "print(\"\\nOriginal arrays:\\n\",arr1,arr2)\n",
    "print(\"\\nJoined array:\\n\",arr)"
   ]
  },
  {
   "cell_type": "code",
   "execution_count": 21,
   "id": "5577a677",
   "metadata": {},
   "outputs": [
    {
     "name": "stdout",
     "output_type": "stream",
     "text": [
      "\\horizontal joining:\n",
      " [1 2 3 4 5 6]\n"
     ]
    }
   ],
   "source": [
    "arr = np.hstack((arr1, arr2))\n",
    "print(\"\\horizontal joining:\\n\",arr)"
   ]
  },
  {
   "cell_type": "code",
   "execution_count": 22,
   "id": "2ebc17ed",
   "metadata": {},
   "outputs": [
    {
     "name": "stdout",
     "output_type": "stream",
     "text": [
      "\n",
      "Original arrays:\n",
      " [1 2 3] [4 5 6]\n"
     ]
    }
   ],
   "source": [
    "print(\"\\nOriginal arrays:\\n\",arr1,arr2)"
   ]
  },
  {
   "cell_type": "code",
   "execution_count": 23,
   "id": "0910df54",
   "metadata": {},
   "outputs": [
    {
     "name": "stdout",
     "output_type": "stream",
     "text": [
      "\n",
      "Vertical joining:\n",
      " [[1 2 3]\n",
      " [4 5 6]]\n"
     ]
    }
   ],
   "source": [
    "arr = np.vstack((arr1, arr2))\n",
    "print(\"\\nVertical joining:\\n\",arr)"
   ]
  },
  {
   "cell_type": "code",
   "execution_count": 24,
   "id": "f53831dd",
   "metadata": {},
   "outputs": [
    {
     "name": "stdout",
     "output_type": "stream",
     "text": [
      "\n",
      "Depth joining:\n",
      " [[[1 4]\n",
      "  [2 5]\n",
      "  [3 6]]]\n"
     ]
    }
   ],
   "source": [
    "arr = np.dstack((arr1, arr2))\n",
    "print(\"\\nDepth joining:\\n\",arr)"
   ]
  },
  {
   "cell_type": "code",
   "execution_count": 25,
   "id": "d06535ee",
   "metadata": {},
   "outputs": [
    {
     "name": "stdout",
     "output_type": "stream",
     "text": [
      "\n",
      "Original Array:\n",
      " [1 2 3 4 5 6]\n",
      "\n",
      "Splitted array:\n",
      " [array([1, 2]), array([3, 4]), array([5, 6])]\n"
     ]
    }
   ],
   "source": [
    "arr = np.array([1, 2, 3, 4, 5, 6])\n",
    "newarr = np.array_split(arr, 3)\n",
    "print(\"\\nOriginal Array:\\n\",arr)\n",
    "print(\"\\nSplitted array:\\n\",newarr)"
   ]
  },
  {
   "cell_type": "code",
   "execution_count": 26,
   "id": "b621984d",
   "metadata": {},
   "outputs": [
    {
     "name": "stdout",
     "output_type": "stream",
     "text": [
      "\n",
      "Split array in another form:\n",
      "\n",
      "[1 2]\n",
      "[3 4]\n",
      "[5 6]\n"
     ]
    }
   ],
   "source": [
    "print(\"\\nSplit array in another form:\\n\")\n",
    "print(newarr[0])\n",
    "print(newarr[1])\n",
    "print(newarr[2])"
   ]
  },
  {
   "cell_type": "code",
   "execution_count": 27,
   "id": "2ee789b8",
   "metadata": {},
   "outputs": [
    {
     "name": "stdout",
     "output_type": "stream",
     "text": [
      "Original array: [1 2 3 4 5 4 4]\n",
      "\n",
      "Indexes where the value is 4: (array([3, 5, 6], dtype=int64),)\n"
     ]
    }
   ],
   "source": [
    "arr = np.array([1, 2, 3, 4, 5, 4, 4])\n",
    "print(\"Original array:\",arr)\n",
    "x = np.where(arr == 4)\n",
    "print(\"\\nIndexes where the value is 4:\",x)"
   ]
  },
  {
   "cell_type": "code",
   "execution_count": 31,
   "id": "43b91f23",
   "metadata": {},
   "outputs": [
    {
     "name": "stdout",
     "output_type": "stream",
     "text": [
      "\n",
      "Original array:\n",
      " [1 2 3 4 5 6 7 8]\n",
      "\n",
      "Indexes where the values are even: (array([1, 3, 5, 7], dtype=int64),)\n"
     ]
    }
   ],
   "source": [
    "arr = np.array([1, 2, 3, 4, 5, 6, 7, 8])\n",
    "x = np.where(arr%2 == 0)\n",
    "print(\"\\nOriginal array:\\n\",arr)\n",
    "print(\"\\nIndexes where the values are even:\",x)"
   ]
  },
  {
   "cell_type": "code",
   "execution_count": 32,
   "id": "447801b9",
   "metadata": {},
   "outputs": [
    {
     "name": "stdout",
     "output_type": "stream",
     "text": [
      "\n",
      "Original array: [[3 2 4]\n",
      " [5 0 1]]\n",
      "\n",
      "Sorted array: [[2 3 4]\n",
      " [0 1 5]]\n"
     ]
    }
   ],
   "source": [
    "arr=np.array([[3,2,4],[5,0,1]])\n",
    "print(\"\\nOriginal array:\",arr)\n",
    "print(\"\\nSorted array:\",np.sort(arr))"
   ]
  },
  {
   "cell_type": "code",
   "execution_count": 33,
   "id": "8bb67670",
   "metadata": {},
   "outputs": [
    {
     "name": "stdout",
     "output_type": "stream",
     "text": [
      "\n",
      "Original array: [41 42 43 44]\n",
      "\n",
      "Filter index: [True, False, True, False]\n",
      "\n",
      "Filter array: [41 43]\n"
     ]
    }
   ],
   "source": [
    "arr = np.array([41, 42, 43, 44])\n",
    "x = [True, False, True, False]\n",
    "newarr = arr[x]\n",
    "print(\"\\nOriginal array:\",arr)\n",
    "print(\"\\nFilter index:\",x)\n",
    "print(\"\\nFilter array:\",newarr)"
   ]
  },
  {
   "cell_type": "code",
   "execution_count": 34,
   "id": "8a460fc5",
   "metadata": {},
   "outputs": [
    {
     "name": "stdout",
     "output_type": "stream",
     "text": [
      "\n",
      "Original array: [41 42 43 44]\n",
      "\n",
      "Filter array:condition- >42: [False False  True  True]\n",
      "\n",
      "New array: [43 44]\n"
     ]
    }
   ],
   "source": [
    "arr = np.array([41, 42, 43, 44])\n",
    "filter_arr = arr > 42\n",
    "newarr = arr[filter_arr]\n",
    "print(\"\\nOriginal array:\",arr)\n",
    "print(\"\\nFilter array:condition- >42:\",filter_arr)\n",
    "print(\"\\nNew array:\",newarr)"
   ]
  },
  {
   "cell_type": "code",
   "execution_count": 35,
   "id": "61d8a504",
   "metadata": {},
   "outputs": [
    {
     "name": "stdout",
     "output_type": "stream",
     "text": [
      "Original arrays\n",
      "[10 20 30 40 50]\n",
      "[ 2  3  4  8 10]\n"
     ]
    }
   ],
   "source": [
    "arr1=[10,20,30,40,50]\n",
    "arr2=[2,3,4,8,10]\n",
    "a=np.array(arr1)\n",
    "b=np.array(arr2)\n",
    "print(\"Original arrays\")\n",
    "print(a)\n",
    "print(b)"
   ]
  },
  {
   "cell_type": "code",
   "execution_count": 36,
   "id": "959cc0f6",
   "metadata": {},
   "outputs": [
    {
     "name": "stdout",
     "output_type": "stream",
     "text": [
      "\n",
      "Vector addition\n",
      "[12 23 34 48 60]\n"
     ]
    }
   ],
   "source": [
    "print(\"\\nVector addition\")\n",
    "print(a+b)"
   ]
  },
  {
   "cell_type": "code",
   "execution_count": 37,
   "id": "f6f18850",
   "metadata": {},
   "outputs": [
    {
     "name": "stdout",
     "output_type": "stream",
     "text": [
      "\n",
      "Vector subtraction\n",
      "[ 8 17 26 32 40]\n"
     ]
    }
   ],
   "source": [
    "print(\"\\nVector subtraction\")\n",
    "print(a-b)"
   ]
  },
  {
   "cell_type": "code",
   "execution_count": 38,
   "id": "b1ae1bc5",
   "metadata": {},
   "outputs": [
    {
     "name": "stdout",
     "output_type": "stream",
     "text": [
      "\n",
      "Vector multipilication\n",
      "[ 20  60 120 320 500]\n"
     ]
    }
   ],
   "source": [
    "print(\"\\nVector multipilication\")\n",
    "print(a*b)"
   ]
  },
  {
   "cell_type": "code",
   "execution_count": 39,
   "id": "80413889",
   "metadata": {},
   "outputs": [
    {
     "name": "stdout",
     "output_type": "stream",
     "text": [
      "\n",
      "Vector division\n",
      "[5.         6.66666667 7.5        5.         5.        ]\n"
     ]
    }
   ],
   "source": [
    "print(\"\\nVector division\")\n",
    "print(a/b)"
   ]
  },
  {
   "cell_type": "code",
   "execution_count": 40,
   "id": "c2ecc001",
   "metadata": {},
   "outputs": [
    {
     "name": "stdout",
     "output_type": "stream",
     "text": [
      "\n",
      "Vector Dot product\n",
      "1020\n"
     ]
    }
   ],
   "source": [
    "print(\"\\nVector Dot product\")\n",
    "print(a.dot(b))"
   ]
  },
  {
   "cell_type": "code",
   "execution_count": 41,
   "id": "f26222df",
   "metadata": {},
   "outputs": [
    {
     "name": "stdout",
     "output_type": "stream",
     "text": [
      "\n",
      "Scalar multipilication\n",
      "scalar value= 5\n",
      "array= [10 20 30 40 50]\n",
      "result= [ 50 100 150 200 250]\n"
     ]
    }
   ],
   "source": [
    "print(\"\\nScalar multipilication\")\n",
    "sclr=5\n",
    "print(\"scalar value=\",sclr)\n",
    "print(\"array=\",a)\n",
    "print(\"result=\",a*sclr)"
   ]
  }
 ],
 "metadata": {
  "kernelspec": {
   "display_name": "Python 3 (ipykernel)",
   "language": "python",
   "name": "python3"
  },
  "language_info": {
   "codemirror_mode": {
    "name": "ipython",
    "version": 3
   },
   "file_extension": ".py",
   "mimetype": "text/x-python",
   "name": "python",
   "nbconvert_exporter": "python",
   "pygments_lexer": "ipython3",
   "version": "3.9.12"
  }
 },
 "nbformat": 4,
 "nbformat_minor": 5
}
