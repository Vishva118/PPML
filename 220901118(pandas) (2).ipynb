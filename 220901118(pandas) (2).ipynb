{
 "cells": [
  {
   "cell_type": "code",
   "execution_count": 2,
   "id": "707fe326",
   "metadata": {},
   "outputs": [
    {
     "name": "stdout",
     "output_type": "stream",
     "text": [
      "DataFrame.apply function:\n",
      "\n"
     ]
    }
   ],
   "source": [
    "import pandas as pd\n",
    "import numpy as np\n",
    "print(\"DataFrame.apply function:\\n\")\n",
    "info=pd.DataFrame([[2,7]]*3,columns=['P','Q'])"
   ]
  },
  {
   "cell_type": "code",
   "execution_count": 3,
   "id": "a0551802",
   "metadata": {},
   "outputs": [
    {
     "name": "stdout",
     "output_type": "stream",
     "text": [
      "\n",
      "Original DataFrame:\n",
      "    P  Q\n",
      "0  2  7\n",
      "1  2  7\n",
      "2  2  7\n"
     ]
    }
   ],
   "source": [
    "print(\"\\nOriginal DataFrame:\\n\",info)"
   ]
  },
  {
   "cell_type": "code",
   "execution_count": 4,
   "id": "a37a6a0f",
   "metadata": {},
   "outputs": [
    {
     "name": "stdout",
     "output_type": "stream",
     "text": [
      "\n",
      "Square roof of DataFrame:\n",
      "           P         Q\n",
      "0  1.414214  2.645751\n",
      "1  1.414214  2.645751\n",
      "2  1.414214  2.645751\n"
     ]
    }
   ],
   "source": [
    "print(\"\\nSquare roof of DataFrame:\\n\",info.apply(np.sqrt))"
   ]
  },
  {
   "cell_type": "code",
   "execution_count": 5,
   "id": "db683605",
   "metadata": {},
   "outputs": [
    {
     "name": "stdout",
     "output_type": "stream",
     "text": [
      "\n",
      "Sum of each column:\n",
      " P     6\n",
      "Q    21\n",
      "dtype: int64\n"
     ]
    }
   ],
   "source": [
    "print(\"\\nSum of each column:\\n\",info.apply(np.sum,axis=0))"
   ]
  },
  {
   "cell_type": "code",
   "execution_count": 6,
   "id": "42ac2e50",
   "metadata": {},
   "outputs": [
    {
     "name": "stdout",
     "output_type": "stream",
     "text": [
      "\n",
      "Sum of each row:\n",
      " 0    9\n",
      "1    9\n",
      "2    9\n",
      "dtype: int64\n"
     ]
    }
   ],
   "source": [
    "print(\"\\nSum of each row:\\n\",info.apply(np.sum,axis=1))"
   ]
  },
  {
   "cell_type": "code",
   "execution_count": 7,
   "id": "f5e8180b",
   "metadata": {},
   "outputs": [
    {
     "name": "stdout",
     "output_type": "stream",
     "text": [
      "\n",
      "Original DataFrame:\n",
      "    X  Y  Z\n",
      "0  1  5  7\n",
      "1  2  7  8\n",
      "2  3  6  9\n",
      "\n",
      "Minimum and Maximum of each column:\n",
      "\n",
      "     X  Y  Z\n",
      "min  1  5  7\n",
      "max  3  7  9\n"
     ]
    }
   ],
   "source": [
    "info=pd.DataFrame([[1,5,7],[2,7,8],[3,6,9]],columns=['X','Y','Z'])\n",
    "print(\"\\nOriginal DataFrame:\\n\",info)\n",
    "print(\"\\nMinimum and Maximum of each column:\\n\")\n",
    "print(info.agg(['min','max']))"
   ]
  },
  {
   "cell_type": "code",
   "execution_count": 8,
   "id": "271956b5",
   "metadata": {},
   "outputs": [
    {
     "name": "stdout",
     "output_type": "stream",
     "text": [
      "\n",
      "DataFrame.Assign function:\n",
      "\n"
     ]
    }
   ],
   "source": [
    "print(\"\\nDataFrame.Assign function:\\n\")\n",
    "d2=pd.DataFrame([['Dale',123],['Mark',143]],columns=['Emp','ID'])"
   ]
  },
  {
   "cell_type": "code",
   "execution_count": 9,
   "id": "96d7d226",
   "metadata": {},
   "outputs": [
    {
     "name": "stdout",
     "output_type": "stream",
     "text": [
      "\n",
      "Original DataFrame:\n",
      "     Emp   ID\n",
      "0  Dale  123\n",
      "1  Mark  143\n"
     ]
    }
   ],
   "source": [
    "print(\"\\nOriginal DataFrame:\\n\",d2)\n",
    "d2['Age']=[35,40]"
   ]
  },
  {
   "cell_type": "code",
   "execution_count": 10,
   "id": "d45caa85",
   "metadata": {},
   "outputs": [
    {
     "name": "stdout",
     "output_type": "stream",
     "text": [
      "\n",
      "Adding new column:\n",
      "     Emp   ID  Age\n",
      "0  Dale  123   35\n",
      "1  Mark  143   40\n",
      "\n",
      "Adding new column:\n",
      "     Emp   ID  Age   Sex\n",
      "0  Dale  123   35  Male\n",
      "1  Mark  143   40  Male\n"
     ]
    }
   ],
   "source": [
    "print(\"\\nAdding new column:\\n\",d2)\n",
    "d=d2.assign(Sex=['Male','Male'])\n",
    "print(\"\\nAdding new column:\\n\",d)"
   ]
  },
  {
   "cell_type": "code",
   "execution_count": 11,
   "id": "aa46d804",
   "metadata": {},
   "outputs": [
    {
     "name": "stdout",
     "output_type": "stream",
     "text": [
      "\n",
      "DataFrame.Sort function:\n",
      "\n",
      "       col3      col4\n",
      "3  0.023971  0.262482\n",
      "2  0.653503 -2.609028\n",
      "0 -0.679560 -0.038943\n",
      "4  0.610255 -0.935638\n",
      "1  0.217298 -0.138176\n",
      "\n",
      "Sort index:\n",
      "        col3      col4\n",
      "0 -0.679560 -0.038943\n",
      "1  0.217298 -0.138176\n",
      "2  0.653503 -2.609028\n",
      "3  0.023971  0.262482\n",
      "4  0.610255 -0.935638\n",
      "\n",
      "Sort Values:\n",
      "        col3      col4\n",
      "0 -0.679560 -0.038943\n",
      "3  0.023971  0.262482\n",
      "1  0.217298 -0.138176\n",
      "4  0.610255 -0.935638\n",
      "2  0.653503 -2.609028\n"
     ]
    }
   ],
   "source": [
    "print(\"\\nDataFrame.Sort function:\\n\")\n",
    "info=pd.DataFrame(np.random.randn(5,2),index=[3,2,0,4,1],columns=['col3','col4'])\n",
    "print(info)\n",
    "info2=info.sort_index()\n",
    "print(\"\\nSort index:\\n\",info2)\n",
    "info3=info.sort_values(by='col3')\n",
    "print(\"\\nSort Values:\\n\",info3)"
   ]
  },
  {
   "cell_type": "code",
   "execution_count": 13,
   "id": "f0e134d7",
   "metadata": {},
   "outputs": [
    {
     "name": "stdout",
     "output_type": "stream",
     "text": [
      "\n",
      "DataFrame.Merge function:\n",
      "\n",
      "   id    Name   sub\n",
      "0   1    Alex  sub1\n",
      "1   2     Amy  sub2\n",
      "2   3   Allen  sub4\n",
      "3   4   Alice  sub6\n",
      "4   5  Ayoung  sub5\n",
      "   id   Name   sub\n",
      "0   1  Billy  sub2\n",
      "1   2  Brian  sub4\n",
      "2   3   Bran  sub3\n",
      "3   4  Bryce  sub6\n",
      "4   5  Betty  sub5\n",
      "   id  Name_x sub_x Name_y sub_y\n",
      "0   1    Alex  sub1  Billy  sub2\n",
      "1   2     Amy  sub2  Brian  sub4\n",
      "2   3   Allen  sub4   Bran  sub3\n",
      "3   4   Alice  sub6  Bryce  sub6\n",
      "4   5  Ayoung  sub5  Betty  sub5\n"
     ]
    }
   ],
   "source": [
    "print(\"\\nDataFrame.Merge function:\\n\")\n",
    "left=pd.DataFrame({'id':[1,2,3,4,5],'Name':['Alex','Amy','Allen','Alice','Ayoung'],'sub':['sub1','sub2','sub4','sub6','sub5']})\n",
    "right=pd.DataFrame({'id':[1,2,3,4,5],'Name':['Billy','Brian','Bran','Bryce','Betty'],'sub':['sub2','sub4','sub3','sub6','sub5']})\n",
    "print(left)\n",
    "print(right)\n",
    "print(pd.merge(left,right,on='id'))"
   ]
  },
  {
   "cell_type": "code",
   "execution_count": null,
   "id": "ad8d2b5e",
   "metadata": {},
   "outputs": [],
   "source": []
  }
 ],
 "metadata": {
  "kernelspec": {
   "display_name": "Python 3 (ipykernel)",
   "language": "python",
   "name": "python3"
  },
  "language_info": {
   "codemirror_mode": {
    "name": "ipython",
    "version": 3
   },
   "file_extension": ".py",
   "mimetype": "text/x-python",
   "name": "python",
   "nbconvert_exporter": "python",
   "pygments_lexer": "ipython3",
   "version": "3.9.12"
  }
 },
 "nbformat": 4,
 "nbformat_minor": 5
}
